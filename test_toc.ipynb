{
 "cells": [
  {
   "cell_type": "markdown",
   "metadata": {},
   "source": [
    "## TOC:\n",
    "* [First Bullet Header](#first-bullet)\n",
    "* [Second Bullet Header](#second-bullet)"
   ]
  },
  {
   "cell_type": "markdown",
   "metadata": {},
   "source": [
    "## First Bullet Header <a class=\"anchor\" id=\"first-bullet\"></a>\n",
    "\n",
    "code blocks...\n",
    "\n",
    "## Second Bullet Header <a class=\"anchor\" id=\"second-bullet\"></a>\n",
    "\n",
    "code blocks..."
   ]
  }
 ],
 "metadata": {
  "kernelspec": {
   "display_name": "Rust",
   "language": "rust",
   "name": "rust"
  },
  "language_info": {
   "name": "rust"
  }
 },
 "nbformat": 4,
 "nbformat_minor": 2
}
