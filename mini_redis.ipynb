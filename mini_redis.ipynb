{
 "cells": [
  {
   "cell_type": "markdown",
   "metadata": {},
   "source": [
    "# My Table of content\n",
    "- [Section 1](#id-section1)\n",
    "- [Section 2](#id-section2)\n",
    "\n",
    "<div id='id-section1'/>\n",
    "## Section 1\n",
    "<div id='id-section2'/>\n",
    "## Section 2"
   ]
  },
  {
   "cell_type": "markdown",
   "metadata": {},
   "source": [
    "# My Table of content\n",
    "- [Section 33](#id-section33)\n",
    "- [Section 44](#id-section44)"
   ]
  },
  {
   "cell_type": "markdown",
   "metadata": {},
   "source": [
    "#large block\n",
    "d\n",
    "d\n",
    "d\n",
    "d\n",
    "d\n",
    "d\n",
    "d\n",
    "d\n",
    "d\n",
    "d\n",
    "dd\n",
    "d\n",
    "d\n",
    "d\n",
    "d\n",
    "d\n"
   ]
  },
  {
   "cell_type": "markdown",
   "metadata": {},
   "source": [
    "<div id='id-section33'/>\n",
    "## Section 1"
   ]
  },
  {
   "cell_type": "markdown",
   "metadata": {},
   "source": [
    "<div id='id-section44'/>\n",
    "## Section 1"
   ]
  }
 ],
 "metadata": {
  "kernelspec": {
   "display_name": "Rust",
   "language": "rust",
   "name": "rust"
  },
  "language_info": {
   "name": "rust"
  }
 },
 "nbformat": 4,
 "nbformat_minor": 2
}
