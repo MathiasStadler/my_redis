{
 "cells": [
  {
   "cell_type": "markdown",
   "metadata": {},
   "source": [
    "[click to go to header](#header)"
   ]
  },
  {
   "cell_type": "markdown",
   "metadata": {},
   "source": [
    "# Contents\n",
    "\n",
    "- [Contents](#contents)\n",
    "    - [Hello World](#hello-world)\n",
    "    - [First Item](#first-item)\n",
    "    - [Second Item](#second-item)\n",
    "\n",
    " <!-- headings -->\n",
    " \n",
    "\n",
    " <a id=\"item-one\"></a>"
   ]
  },
  {
   "cell_type": "code",
   "execution_count": null,
   "metadata": {},
   "outputs": [],
   "source": []
  },
  {
   "cell_type": "markdown",
   "metadata": {},
   "source": [
    "### Hello World\n",
    "\n",
    " Hello world content goes here\n",
    " <a id=\"item-two\"></a>"
   ]
  },
  {
   "cell_type": "markdown",
   "metadata": {},
   "source": [
    "### First Item\n",
    "\n",
    " First item content goes here\n",
    "\n",
    " <a id=\"item-three\"></a>"
   ]
  },
  {
   "cell_type": "markdown",
   "metadata": {},
   "source": [
    "### Second Item\n",
    "\n",
    " Second item content goes here\n",
    "\n",
    "[top](#Contents)"
   ]
  },
  {
   "cell_type": "markdown",
   "metadata": {},
   "source": [
    "# header\n",
    "\n",
    "I'm hear"
   ]
  }
 ],
 "metadata": {
  "kernelspec": {
   "display_name": "Rust",
   "language": "rust",
   "name": "rust"
  },
  "language_info": {
   "name": "rust"
  }
 },
 "nbformat": 4,
 "nbformat_minor": 2
}
